{
 "cells": [
  {
   "cell_type": "markdown",
   "id": "77f6ff43-e425-424c-9dae-f42a1ec7092f",
   "metadata": {
    "tags": []
   },
   "source": [
    "## Building Conversational Bot using Langchain\n",
    "\n",
    "* In this notebook we shall utilize the capabilities of langchain (PromptTemplate, LLMChain, LLM interface </br>\n",
    "</br>\n",
    "We shall build a conversational bot and create an interface like ChatGPT "
   ]
  },
  {
   "cell_type": "markdown",
   "id": "101fbee4-4adc-4248-94d1-44e328e99756",
   "metadata": {},
   "source": [
    "### Installations"
   ]
  },
  {
   "cell_type": "code",
   "execution_count": 1,
   "id": "b7e1582b-ca9f-4480-a89e-76c84bf9bc50",
   "metadata": {
    "tags": []
   },
   "outputs": [
    {
     "name": "stdout",
     "output_type": "stream",
     "text": [
      "Requirement already satisfied: huggingface_hub in c:\\users\\theep\\anaconda3\\lib\\site-packages (0.20.2)\n",
      "Requirement already satisfied: requests in c:\\users\\theep\\anaconda3\\lib\\site-packages (from huggingface_hub) (2.25.1)\n",
      "Requirement already satisfied: pyyaml>=5.1 in c:\\users\\theep\\anaconda3\\lib\\site-packages (from huggingface_hub) (5.4.1)\n",
      "Requirement already satisfied: typing-extensions>=3.7.4.3 in c:\\users\\theep\\anaconda3\\lib\\site-packages (from huggingface_hub) (4.9.0)\n",
      "Requirement already satisfied: fsspec>=2023.5.0 in c:\\users\\theep\\anaconda3\\lib\\site-packages (from huggingface_hub) (2023.12.2)\n",
      "Requirement already satisfied: filelock in c:\\users\\theep\\anaconda3\\lib\\site-packages (from huggingface_hub) (3.0.12)\n",
      "Requirement already satisfied: tqdm>=4.42.1 in c:\\users\\theep\\anaconda3\\lib\\site-packages (from huggingface_hub) (4.59.0)\n",
      "Requirement already satisfied: packaging>=20.9 in c:\\users\\theep\\anaconda3\\lib\\site-packages (from huggingface_hub) (23.2)\n",
      "Requirement already satisfied: chardet<5,>=3.0.2 in c:\\users\\theep\\anaconda3\\lib\\site-packages (from requests->huggingface_hub) (4.0.0)\n",
      "Requirement already satisfied: idna<3,>=2.5 in c:\\users\\theep\\anaconda3\\lib\\site-packages (from requests->huggingface_hub) (2.10)\n",
      "Requirement already satisfied: urllib3<1.27,>=1.21.1 in c:\\users\\theep\\anaconda3\\lib\\site-packages (from requests->huggingface_hub) (1.26.4)\n",
      "Requirement already satisfied: certifi>=2017.4.17 in c:\\users\\theep\\anaconda3\\lib\\site-packages (from requests->huggingface_hub) (2020.12.5)\n",
      "Requirement already satisfied: transformers in c:\\users\\theep\\anaconda3\\lib\\site-packages (4.36.2)\n",
      "Requirement already satisfied: requests in c:\\users\\theep\\anaconda3\\lib\\site-packages (from transformers) (2.25.1)\n",
      "Requirement already satisfied: safetensors>=0.3.1 in c:\\users\\theep\\anaconda3\\lib\\site-packages (from transformers) (0.4.1)\n",
      "Requirement already satisfied: huggingface-hub<1.0,>=0.19.3 in c:\\users\\theep\\anaconda3\\lib\\site-packages (from transformers) (0.20.2)\n",
      "Requirement already satisfied: numpy>=1.17 in c:\\users\\theep\\anaconda3\\lib\\site-packages (from transformers) (1.20.1)\n",
      "Requirement already satisfied: tqdm>=4.27 in c:\\users\\theep\\anaconda3\\lib\\site-packages (from transformers) (4.59.0)\n",
      "Requirement already satisfied: pyyaml>=5.1 in c:\\users\\theep\\anaconda3\\lib\\site-packages (from transformers) (5.4.1)\n",
      "Requirement already satisfied: tokenizers<0.19,>=0.14 in c:\\users\\theep\\anaconda3\\lib\\site-packages (from transformers) (0.15.0)\n",
      "Requirement already satisfied: packaging>=20.0 in c:\\users\\theep\\anaconda3\\lib\\site-packages (from transformers) (23.2)\n",
      "Requirement already satisfied: regex!=2019.12.17 in c:\\users\\theep\\anaconda3\\lib\\site-packages (from transformers) (2021.4.4)\n",
      "Requirement already satisfied: filelock in c:\\users\\theep\\anaconda3\\lib\\site-packages (from transformers) (3.0.12)\n",
      "Requirement already satisfied: typing-extensions>=3.7.4.3 in c:\\users\\theep\\anaconda3\\lib\\site-packages (from huggingface-hub<1.0,>=0.19.3->transformers) (4.9.0)\n",
      "Requirement already satisfied: fsspec>=2023.5.0 in c:\\users\\theep\\anaconda3\\lib\\site-packages (from huggingface-hub<1.0,>=0.19.3->transformers) (2023.12.2)\n",
      "Requirement already satisfied: certifi>=2017.4.17 in c:\\users\\theep\\anaconda3\\lib\\site-packages (from requests->transformers) (2020.12.5)\n",
      "Requirement already satisfied: idna<3,>=2.5 in c:\\users\\theep\\anaconda3\\lib\\site-packages (from requests->transformers) (2.10)\n",
      "Requirement already satisfied: urllib3<1.27,>=1.21.1 in c:\\users\\theep\\anaconda3\\lib\\site-packages (from requests->transformers) (1.26.4)\n",
      "Requirement already satisfied: chardet<5,>=3.0.2 in c:\\users\\theep\\anaconda3\\lib\\site-packages (from requests->transformers) (4.0.0)\n",
      "Requirement already satisfied: langchain in c:\\users\\theep\\anaconda3\\lib\\site-packages (0.1.1)\n",
      "Requirement already satisfied: dataclasses-json<0.7,>=0.5.7 in c:\\users\\theep\\anaconda3\\lib\\site-packages (from langchain) (0.6.3)\n",
      "Requirement already satisfied: langchain-community<0.1,>=0.0.13 in c:\\users\\theep\\anaconda3\\lib\\site-packages (from langchain) (0.0.13)\n",
      "Requirement already satisfied: requests<3,>=2 in c:\\users\\theep\\anaconda3\\lib\\site-packages (from langchain) (2.25.1)\n",
      "Requirement already satisfied: aiohttp<4.0.0,>=3.8.3 in c:\\users\\theep\\anaconda3\\lib\\site-packages (from langchain) (3.9.1)\n",
      "Requirement already satisfied: numpy<2,>=1 in c:\\users\\theep\\anaconda3\\lib\\site-packages (from langchain) (1.20.1)\n",
      "Requirement already satisfied: async-timeout<5.0.0,>=4.0.0 in c:\\users\\theep\\anaconda3\\lib\\site-packages (from langchain) (4.0.3)\n",
      "Requirement already satisfied: PyYAML>=5.3 in c:\\users\\theep\\anaconda3\\lib\\site-packages (from langchain) (5.4.1)\n",
      "Requirement already satisfied: jsonpatch<2.0,>=1.33 in c:\\users\\theep\\anaconda3\\lib\\site-packages (from langchain) (1.33)\n",
      "Requirement already satisfied: pydantic<3,>=1 in c:\\users\\theep\\anaconda3\\lib\\site-packages (from langchain) (2.5.3)\n",
      "Requirement already satisfied: SQLAlchemy<3,>=1.4 in c:\\users\\theep\\anaconda3\\lib\\site-packages (from langchain) (1.4.7)\n",
      "Requirement already satisfied: tenacity<9.0.0,>=8.1.0 in c:\\users\\theep\\anaconda3\\lib\\site-packages (from langchain) (8.2.3)\n",
      "Requirement already satisfied: langchain-core<0.2,>=0.1.9 in c:\\users\\theep\\anaconda3\\lib\\site-packages (from langchain) (0.1.12)\n",
      "Requirement already satisfied: langsmith<0.1.0,>=0.0.77 in c:\\users\\theep\\anaconda3\\lib\\site-packages (from langchain) (0.0.83)\n",
      "Requirement already satisfied: multidict<7.0,>=4.5 in c:\\users\\theep\\anaconda3\\lib\\site-packages (from aiohttp<4.0.0,>=3.8.3->langchain) (6.0.4)\n",
      "Requirement already satisfied: frozenlist>=1.1.1 in c:\\users\\theep\\anaconda3\\lib\\site-packages (from aiohttp<4.0.0,>=3.8.3->langchain) (1.4.1)\n",
      "Requirement already satisfied: yarl<2.0,>=1.0 in c:\\users\\theep\\anaconda3\\lib\\site-packages (from aiohttp<4.0.0,>=3.8.3->langchain) (1.9.4)\n",
      "Requirement already satisfied: aiosignal>=1.1.2 in c:\\users\\theep\\anaconda3\\lib\\site-packages (from aiohttp<4.0.0,>=3.8.3->langchain) (1.3.1)\n",
      "Requirement already satisfied: attrs>=17.3.0 in c:\\users\\theep\\anaconda3\\lib\\site-packages (from aiohttp<4.0.0,>=3.8.3->langchain) (20.3.0)\n",
      "Requirement already satisfied: marshmallow<4.0.0,>=3.18.0 in c:\\users\\theep\\anaconda3\\lib\\site-packages (from dataclasses-json<0.7,>=0.5.7->langchain) (3.20.2)\n",
      "Requirement already satisfied: typing-inspect<1,>=0.4.0 in c:\\users\\theep\\anaconda3\\lib\\site-packages (from dataclasses-json<0.7,>=0.5.7->langchain) (0.9.0)\n",
      "Requirement already satisfied: jsonpointer>=1.9 in c:\\users\\theep\\anaconda3\\lib\\site-packages (from jsonpatch<2.0,>=1.33->langchain) (2.4)\n",
      "Requirement already satisfied: anyio<5,>=3 in c:\\users\\theep\\anaconda3\\lib\\site-packages (from langchain-core<0.2,>=0.1.9->langchain) (3.7.1)\n",
      "Requirement already satisfied: packaging<24.0,>=23.2 in c:\\users\\theep\\anaconda3\\lib\\site-packages (from langchain-core<0.2,>=0.1.9->langchain) (23.2)\n",
      "Requirement already satisfied: exceptiongroup in c:\\users\\theep\\anaconda3\\lib\\site-packages (from anyio<5,>=3->langchain-core<0.2,>=0.1.9->langchain) (1.2.0)\n",
      "Requirement already satisfied: sniffio>=1.1 in c:\\users\\theep\\anaconda3\\lib\\site-packages (from anyio<5,>=3->langchain-core<0.2,>=0.1.9->langchain) (1.2.0)\n",
      "Requirement already satisfied: idna>=2.8 in c:\\users\\theep\\anaconda3\\lib\\site-packages (from anyio<5,>=3->langchain-core<0.2,>=0.1.9->langchain) (2.10)\n",
      "Requirement already satisfied: annotated-types>=0.4.0 in c:\\users\\theep\\anaconda3\\lib\\site-packages (from pydantic<3,>=1->langchain) (0.6.0)\n",
      "Requirement already satisfied: typing-extensions>=4.6.1 in c:\\users\\theep\\anaconda3\\lib\\site-packages (from pydantic<3,>=1->langchain) (4.9.0)\n",
      "Requirement already satisfied: pydantic-core==2.14.6 in c:\\users\\theep\\anaconda3\\lib\\site-packages (from pydantic<3,>=1->langchain) (2.14.6)\n",
      "Requirement already satisfied: chardet<5,>=3.0.2 in c:\\users\\theep\\anaconda3\\lib\\site-packages (from requests<3,>=2->langchain) (4.0.0)\n",
      "Requirement already satisfied: urllib3<1.27,>=1.21.1 in c:\\users\\theep\\anaconda3\\lib\\site-packages (from requests<3,>=2->langchain) (1.26.4)\n",
      "Requirement already satisfied: certifi>=2017.4.17 in c:\\users\\theep\\anaconda3\\lib\\site-packages (from requests<3,>=2->langchain) (2020.12.5)\n",
      "Requirement already satisfied: greenlet!=0.4.17 in c:\\users\\theep\\anaconda3\\lib\\site-packages (from SQLAlchemy<3,>=1.4->langchain) (1.0.0)\n",
      "Requirement already satisfied: mypy-extensions>=0.3.0 in c:\\users\\theep\\anaconda3\\lib\\site-packages (from typing-inspect<1,>=0.4.0->dataclasses-json<0.7,>=0.5.7->langchain) (0.4.3)\n",
      "Collecting chainlit\n",
      "  Using cached chainlit-1.0.101-py3-none-any.whl (2.3 MB)\n",
      "Collecting fastapi-socketio<0.0.11,>=0.0.10\n",
      "  Using cached fastapi_socketio-0.0.10-py3-none-any.whl (7.4 kB)\n",
      "Collecting lazify<0.5.0,>=0.4.0\n",
      "  Using cached Lazify-0.4.0-py2.py3-none-any.whl (3.1 kB)\n",
      "Collecting filetype<2.0.0,>=1.2.0\n",
      "  Using cached filetype-1.2.0-py2.py3-none-any.whl (19 kB)\n",
      "Requirement already satisfied: python-multipart<0.0.7,>=0.0.6 in c:\\users\\theep\\anaconda3\\lib\\site-packages (from chainlit) (0.0.6)\n",
      "Requirement already satisfied: pydantic<3,>=1 in c:\\users\\theep\\anaconda3\\lib\\site-packages (from chainlit) (2.5.3)\n",
      "Requirement already satisfied: syncer<3.0.0,>=2.0.3 in c:\\users\\theep\\anaconda3\\lib\\site-packages (from chainlit) (2.0.3)\n",
      "Collecting dataclasses_json<0.6.0,>=0.5.7\n",
      "  Using cached dataclasses_json-0.5.14-py3-none-any.whl (26 kB)\n",
      "Collecting nest-asyncio<2.0.0,>=1.5.6\n",
      "  Using cached nest_asyncio-1.5.9-py3-none-any.whl (5.3 kB)\n",
      "Requirement already satisfied: uvicorn<0.24.0,>=0.23.2 in c:\\users\\theep\\anaconda3\\lib\\site-packages (from chainlit) (0.23.2)\n",
      "Collecting asyncer<0.0.3,>=0.0.2\n",
      "  Using cached asyncer-0.0.2-py3-none-any.whl (8.3 kB)\n",
      "Collecting literalai==0.0.102\n",
      "  Using cached literalai-0.0.102-py3-none-any.whl (30 kB)\n",
      "Requirement already satisfied: tomli<3.0.0,>=2.0.1 in c:\\users\\theep\\anaconda3\\lib\\site-packages (from chainlit) (2.0.1)\n",
      "Collecting aiofiles<24.0.0,>=23.1.0\n",
      "  Using cached aiofiles-23.2.1-py3-none-any.whl (15 kB)\n",
      "Requirement already satisfied: watchfiles<0.21.0,>=0.20.0 in c:\\users\\theep\\anaconda3\\lib\\site-packages (from chainlit) (0.20.0)\n",
      "Requirement already satisfied: fastapi<0.101,>=0.100 in c:\\users\\theep\\anaconda3\\lib\\site-packages (from chainlit) (0.100.1)\n",
      "Requirement already satisfied: python-graphql-client<0.5.0,>=0.4.3 in c:\\users\\theep\\anaconda3\\lib\\site-packages (from chainlit) (0.4.3)\n",
      "Requirement already satisfied: uptrace<2.0.0,>=1.22.0 in c:\\users\\theep\\anaconda3\\lib\\site-packages (from chainlit) (1.22.0)\n",
      "Requirement already satisfied: httpx<0.25.0,>=0.23.0 in c:\\users\\theep\\anaconda3\\lib\\site-packages (from chainlit) (0.24.1)\n",
      "Requirement already satisfied: pyjwt<3.0.0,>=2.8.0 in c:\\users\\theep\\anaconda3\\lib\\site-packages (from chainlit) (2.8.0)\n",
      "Requirement already satisfied: python-dotenv<2.0.0,>=1.0.0 in c:\\users\\theep\\anaconda3\\lib\\site-packages (from chainlit) (1.0.0)\n",
      "Requirement already satisfied: click<9.0.0,>=8.1.3 in c:\\users\\theep\\anaconda3\\lib\\site-packages (from chainlit) (8.1.7)\n",
      "Requirement already satisfied: packaging<24.0,>=23.1 in c:\\users\\theep\\anaconda3\\lib\\site-packages (from chainlit) (23.2)\n",
      "Requirement already satisfied: anyio<4.0.0,>=3.4.0 in c:\\users\\theep\\anaconda3\\lib\\site-packages (from asyncer<0.0.3,>=0.0.2->chainlit) (3.7.1)\n",
      "Requirement already satisfied: sniffio>=1.1 in c:\\users\\theep\\anaconda3\\lib\\site-packages (from anyio<4.0.0,>=3.4.0->asyncer<0.0.3,>=0.0.2->chainlit) (1.2.0)\n",
      "Requirement already satisfied: idna>=2.8 in c:\\users\\theep\\anaconda3\\lib\\site-packages (from anyio<4.0.0,>=3.4.0->asyncer<0.0.3,>=0.0.2->chainlit) (2.10)\n",
      "Requirement already satisfied: exceptiongroup in c:\\users\\theep\\anaconda3\\lib\\site-packages (from anyio<4.0.0,>=3.4.0->asyncer<0.0.3,>=0.0.2->chainlit) (1.2.0)\n",
      "Requirement already satisfied: colorama in c:\\users\\theep\\anaconda3\\lib\\site-packages (from click<9.0.0,>=8.1.3->chainlit) (0.4.4)\n",
      "Requirement already satisfied: typing-inspect<1,>=0.4.0 in c:\\users\\theep\\anaconda3\\lib\\site-packages (from dataclasses_json<0.6.0,>=0.5.7->chainlit) (0.9.0)\n",
      "Requirement already satisfied: marshmallow<4.0.0,>=3.18.0 in c:\\users\\theep\\anaconda3\\lib\\site-packages (from dataclasses_json<0.6.0,>=0.5.7->chainlit) (3.20.2)\n",
      "Requirement already satisfied: typing-extensions>=4.5.0 in c:\\users\\theep\\anaconda3\\lib\\site-packages (from fastapi<0.101,>=0.100->chainlit) (4.9.0)\n",
      "Requirement already satisfied: starlette<0.28.0,>=0.27.0 in c:\\users\\theep\\anaconda3\\lib\\site-packages (from fastapi<0.101,>=0.100->chainlit) (0.27.0)\n",
      "Requirement already satisfied: python-socketio>=4.6.0 in c:\\users\\theep\\anaconda3\\lib\\site-packages (from fastapi-socketio<0.0.11,>=0.0.10->chainlit) (5.11.0)\n",
      "Requirement already satisfied: certifi in c:\\users\\theep\\anaconda3\\lib\\site-packages (from httpx<0.25.0,>=0.23.0->chainlit) (2020.12.5)\n",
      "Requirement already satisfied: httpcore<0.18.0,>=0.15.0 in c:\\users\\theep\\anaconda3\\lib\\site-packages (from httpx<0.25.0,>=0.23.0->chainlit) (0.17.3)\n",
      "Requirement already satisfied: h11<0.15,>=0.13 in c:\\users\\theep\\anaconda3\\lib\\site-packages (from httpcore<0.18.0,>=0.15.0->httpx<0.25.0,>=0.23.0->chainlit) (0.14.0)\n",
      "Requirement already satisfied: pydantic-core==2.14.6 in c:\\users\\theep\\anaconda3\\lib\\site-packages (from pydantic<3,>=1->chainlit) (2.14.6)\n",
      "Requirement already satisfied: annotated-types>=0.4.0 in c:\\users\\theep\\anaconda3\\lib\\site-packages (from pydantic<3,>=1->chainlit) (0.6.0)\n",
      "Requirement already satisfied: requests~=2.0 in c:\\users\\theep\\anaconda3\\lib\\site-packages (from python-graphql-client<0.5.0,>=0.4.3->chainlit) (2.25.1)\n",
      "Requirement already satisfied: aiohttp~=3.0 in c:\\users\\theep\\anaconda3\\lib\\site-packages (from python-graphql-client<0.5.0,>=0.4.3->chainlit) (3.9.1)\n",
      "Requirement already satisfied: websockets>=5.0 in c:\\users\\theep\\anaconda3\\lib\\site-packages (from python-graphql-client<0.5.0,>=0.4.3->chainlit) (12.0)\n",
      "Requirement already satisfied: async-timeout<5.0,>=4.0 in c:\\users\\theep\\anaconda3\\lib\\site-packages (from aiohttp~=3.0->python-graphql-client<0.5.0,>=0.4.3->chainlit) (4.0.3)\n",
      "Requirement already satisfied: frozenlist>=1.1.1 in c:\\users\\theep\\anaconda3\\lib\\site-packages (from aiohttp~=3.0->python-graphql-client<0.5.0,>=0.4.3->chainlit) (1.4.1)\n",
      "Requirement already satisfied: attrs>=17.3.0 in c:\\users\\theep\\anaconda3\\lib\\site-packages (from aiohttp~=3.0->python-graphql-client<0.5.0,>=0.4.3->chainlit) (20.3.0)\n",
      "Requirement already satisfied: yarl<2.0,>=1.0 in c:\\users\\theep\\anaconda3\\lib\\site-packages (from aiohttp~=3.0->python-graphql-client<0.5.0,>=0.4.3->chainlit) (1.9.4)\n",
      "Requirement already satisfied: multidict<7.0,>=4.5 in c:\\users\\theep\\anaconda3\\lib\\site-packages (from aiohttp~=3.0->python-graphql-client<0.5.0,>=0.4.3->chainlit) (6.0.4)\n",
      "Requirement already satisfied: aiosignal>=1.1.2 in c:\\users\\theep\\anaconda3\\lib\\site-packages (from aiohttp~=3.0->python-graphql-client<0.5.0,>=0.4.3->chainlit) (1.3.1)\n",
      "Requirement already satisfied: python-engineio>=4.8.0 in c:\\users\\theep\\anaconda3\\lib\\site-packages (from python-socketio>=4.6.0->fastapi-socketio<0.0.11,>=0.0.10->chainlit) (4.8.2)\n",
      "Requirement already satisfied: bidict>=0.21.0 in c:\\users\\theep\\anaconda3\\lib\\site-packages (from python-socketio>=4.6.0->fastapi-socketio<0.0.11,>=0.0.10->chainlit) (0.22.1)\n",
      "Requirement already satisfied: simple-websocket>=0.10.0 in c:\\users\\theep\\anaconda3\\lib\\site-packages (from python-engineio>=4.8.0->python-socketio>=4.6.0->fastapi-socketio<0.0.11,>=0.0.10->chainlit) (1.0.0)\n",
      "Requirement already satisfied: urllib3<1.27,>=1.21.1 in c:\\users\\theep\\anaconda3\\lib\\site-packages (from requests~=2.0->python-graphql-client<0.5.0,>=0.4.3->chainlit) (1.26.4)\n",
      "Requirement already satisfied: chardet<5,>=3.0.2 in c:\\users\\theep\\anaconda3\\lib\\site-packages (from requests~=2.0->python-graphql-client<0.5.0,>=0.4.3->chainlit) (4.0.0)\n",
      "Requirement already satisfied: wsproto in c:\\users\\theep\\anaconda3\\lib\\site-packages (from simple-websocket>=0.10.0->python-engineio>=4.8.0->python-socketio>=4.6.0->fastapi-socketio<0.0.11,>=0.0.10->chainlit) (1.2.0)\n",
      "Requirement already satisfied: mypy-extensions>=0.3.0 in c:\\users\\theep\\anaconda3\\lib\\site-packages (from typing-inspect<1,>=0.4.0->dataclasses_json<0.6.0,>=0.5.7->chainlit) (0.4.3)\n",
      "Requirement already satisfied: opentelemetry-exporter-otlp~=1.22 in c:\\users\\theep\\anaconda3\\lib\\site-packages (from uptrace<2.0.0,>=1.22.0->chainlit) (1.22.0)\n",
      "Requirement already satisfied: opentelemetry-instrumentation~=0.43b0 in c:\\users\\theep\\anaconda3\\lib\\site-packages (from uptrace<2.0.0,>=1.22.0->chainlit) (0.43b0)\n",
      "Requirement already satisfied: opentelemetry-sdk~=1.22 in c:\\users\\theep\\anaconda3\\lib\\site-packages (from uptrace<2.0.0,>=1.22.0->chainlit) (1.22.0)\n",
      "Requirement already satisfied: opentelemetry-api~=1.22 in c:\\users\\theep\\anaconda3\\lib\\site-packages (from uptrace<2.0.0,>=1.22.0->chainlit) (1.22.0)\n",
      "Requirement already satisfied: deprecated>=1.2.6 in c:\\users\\theep\\anaconda3\\lib\\site-packages (from opentelemetry-api~=1.22->uptrace<2.0.0,>=1.22.0->chainlit) (1.2.14)\n",
      "Requirement already satisfied: importlib-metadata<7.0,>=6.0 in c:\\users\\theep\\anaconda3\\lib\\site-packages (from opentelemetry-api~=1.22->uptrace<2.0.0,>=1.22.0->chainlit) (6.8.0)\n",
      "Requirement already satisfied: wrapt<2,>=1.10 in c:\\users\\theep\\anaconda3\\lib\\site-packages (from deprecated>=1.2.6->opentelemetry-api~=1.22->uptrace<2.0.0,>=1.22.0->chainlit) (1.12.1)\n",
      "Requirement already satisfied: zipp>=0.5 in c:\\users\\theep\\anaconda3\\lib\\site-packages (from importlib-metadata<7.0,>=6.0->opentelemetry-api~=1.22->uptrace<2.0.0,>=1.22.0->chainlit) (3.4.1)\n",
      "Requirement already satisfied: opentelemetry-exporter-otlp-proto-grpc==1.22.0 in c:\\users\\theep\\anaconda3\\lib\\site-packages (from opentelemetry-exporter-otlp~=1.22->uptrace<2.0.0,>=1.22.0->chainlit) (1.22.0)\n",
      "Requirement already satisfied: opentelemetry-exporter-otlp-proto-http==1.22.0 in c:\\users\\theep\\anaconda3\\lib\\site-packages (from opentelemetry-exporter-otlp~=1.22->uptrace<2.0.0,>=1.22.0->chainlit) (1.22.0)\n",
      "Requirement already satisfied: grpcio<2.0.0,>=1.0.0 in c:\\users\\theep\\anaconda3\\lib\\site-packages (from opentelemetry-exporter-otlp-proto-grpc==1.22.0->opentelemetry-exporter-otlp~=1.22->uptrace<2.0.0,>=1.22.0->chainlit) (1.59.0)\n",
      "Requirement already satisfied: opentelemetry-exporter-otlp-proto-common==1.22.0 in c:\\users\\theep\\anaconda3\\lib\\site-packages (from opentelemetry-exporter-otlp-proto-grpc==1.22.0->opentelemetry-exporter-otlp~=1.22->uptrace<2.0.0,>=1.22.0->chainlit) (1.22.0)\n",
      "Requirement already satisfied: googleapis-common-protos~=1.52 in c:\\users\\theep\\anaconda3\\lib\\site-packages (from opentelemetry-exporter-otlp-proto-grpc==1.22.0->opentelemetry-exporter-otlp~=1.22->uptrace<2.0.0,>=1.22.0->chainlit) (1.62.0)\n",
      "Requirement already satisfied: opentelemetry-proto==1.22.0 in c:\\users\\theep\\anaconda3\\lib\\site-packages (from opentelemetry-exporter-otlp-proto-grpc==1.22.0->opentelemetry-exporter-otlp~=1.22->uptrace<2.0.0,>=1.22.0->chainlit) (1.22.0)\n",
      "Requirement already satisfied: backoff<3.0.0,>=1.10.0 in c:\\users\\theep\\anaconda3\\lib\\site-packages (from opentelemetry-exporter-otlp-proto-grpc==1.22.0->opentelemetry-exporter-otlp~=1.22->uptrace<2.0.0,>=1.22.0->chainlit) (2.2.1)\n",
      "Requirement already satisfied: protobuf<5.0,>=3.19 in c:\\users\\theep\\anaconda3\\lib\\site-packages (from opentelemetry-proto==1.22.0->opentelemetry-exporter-otlp-proto-grpc==1.22.0->opentelemetry-exporter-otlp~=1.22->uptrace<2.0.0,>=1.22.0->chainlit) (4.24.4)\n",
      "Requirement already satisfied: setuptools>=16.0 in c:\\users\\theep\\anaconda3\\lib\\site-packages (from opentelemetry-instrumentation~=0.43b0->uptrace<2.0.0,>=1.22.0->chainlit) (52.0.0.post20210125)\n",
      "Requirement already satisfied: opentelemetry-semantic-conventions==0.43b0 in c:\\users\\theep\\anaconda3\\lib\\site-packages (from opentelemetry-sdk~=1.22->uptrace<2.0.0,>=1.22.0->chainlit) (0.43b0)\n",
      "Installing collected packages: nest-asyncio, literalai, lazify, filetype, fastapi-socketio, dataclasses-json, asyncer, aiofiles, chainlit\n",
      "  Attempting uninstall: nest-asyncio\n",
      "    Found existing installation: nest-asyncio 1.5.1\n",
      "    Uninstalling nest-asyncio-1.5.1:\n",
      "      Successfully uninstalled nest-asyncio-1.5.1\n",
      "  Attempting uninstall: dataclasses-json\n",
      "    Found existing installation: dataclasses-json 0.6.3\n",
      "    Uninstalling dataclasses-json-0.6.3:\n",
      "      Successfully uninstalled dataclasses-json-0.6.3\n",
      "Successfully installed aiofiles-23.2.1 asyncer-0.0.2 chainlit-1.0.101 dataclasses-json-0.5.14 fastapi-socketio-0.0.10 filetype-1.2.0 lazify-0.4.0 literalai-0.0.102 nest-asyncio-1.5.9\n"
     ]
    }
   ],
   "source": [
    "!pip install huggingface_hub\n",
    "!pip install transformers\n",
    "!pip install langchain\n",
    "!pip install chainlit"
   ]
  },
  {
   "cell_type": "markdown",
   "id": "dd6aa3f7-adad-4997-9d86-17dd9fdfc212",
   "metadata": {},
   "source": [
    "I have already installed these libraries in my environment"
   ]
  },
  {
   "cell_type": "code",
   "execution_count": null,
   "id": "d0bb339a-be73-4a76-9412-75ef63177c26",
   "metadata": {
    "tags": [],
    "pycharm": {
     "is_executing": true
    }
   },
   "outputs": [],
   "source": [
    "!chainlit hello"
   ]
  },
  {
   "cell_type": "markdown",
   "id": "6329b396-47bc-47ce-ad86-8906cc1e2d06",
   "metadata": {},
   "source": [
    "### Importing libraries and access token"
   ]
  },
  {
   "cell_type": "code",
   "execution_count": null,
   "id": "e4a969e5-0054-4545-b26b-812923ec2f74",
   "metadata": {
    "tags": [],
    "pycharm": {
     "is_executing": true
    }
   },
   "outputs": [],
   "source": [
    "import os\n",
    "import chainlit as cl\n",
    "from langchain import HuggingFaceHub, PromptTemplate, LLMChain"
   ]
  },
  {
   "cell_type": "code",
   "execution_count": null,
   "id": "ef7d2430-1cea-45f3-92a9-2fe1f01cde4d",
   "metadata": {
    "tags": [],
    "pycharm": {
     "is_executing": true
    }
   },
   "outputs": [],
   "source": [
    "from getpass import getpass\n",
    "HUGGINGFACEHUB_API_TOKEN = getpass()\n",
    "os.environ['HUGGINGFACEHUB_API_TOKEN'] = HUGGINGFACEHUB_API_TOKEN"
   ]
  },
  {
   "cell_type": "markdown",
   "id": "e572beee-4dcb-4093-9fd3-78ff9c075fd7",
   "metadata": {},
   "source": [
    "* The PromptTemplate is one of the elements of LangChain, necessary for building applications based on the Large Language Model. It defines how the model should interpret the user’s questions and in what context it should answer them"
   ]
  },
  {
   "cell_type": "markdown",
   "id": "3b6ef582-ecd6-47b1-87e6-1fefa1b24085",
   "metadata": {},
   "source": [
    "### Setting the conversational model"
   ]
  },
  {
   "cell_type": "code",
   "execution_count": null,
   "id": "b5aefe8e-c88f-491f-8894-741b0fc74600",
   "metadata": {
    "tags": [],
    "pycharm": {
     "is_executing": true
    }
   },
   "outputs": [],
   "source": [
    "#model_id = \"microsoft/DialoGPT-medium\" : conversational models are not currently supported by Langchain\n",
    "#model_id = \"mosaicml/mpt-7b-instruct\"\n",
    "#model_id = \"tiiuae/falcon-7b\"\n",
    "model_id = \"gpt2-medium\"  #355M parameters\n",
    "conv_model = HuggingFaceHub(huggingfacehub_api_token=os.environ['HUGGINGFACEHUB_API_TOKEN'],\n",
    "                            repo_id=model_id,\n",
    "                            model_kwargs={\"temperature\":0.8, \"max_new_tokens\":200}) #0 to 1"
   ]
  },
  {
   "cell_type": "code",
   "execution_count": null,
   "id": "58f4407e-dfe4-4b7e-9b9d-11ea047e3968",
   "metadata": {
    "tags": [],
    "pycharm": {
     "is_executing": true
    }
   },
   "outputs": [],
   "source": [
    "template = \"\"\"You are a helpful AI assistant that makes stories by completing the query provided by the user \n",
    "\n",
    "{query}\n",
    "\"\"\"\n",
    "\n",
    "prompt = PromptTemplate(template=template, input_variables=['query'])"
   ]
  },
  {
   "cell_type": "code",
   "execution_count": null,
   "id": "7fa89aee-7e5f-4af3-9164-87654529f9ce",
   "metadata": {
    "tags": [],
    "pycharm": {
     "is_executing": true
    }
   },
   "outputs": [],
   "source": [
    "conv_chain = LLMChain(llm=conv_model,\n",
    "                      prompt=prompt,\n",
    "                      verbose=True)"
   ]
  },
  {
   "cell_type": "code",
   "execution_count": null,
   "id": "782ecce6-dc8c-4859-a0b7-bf0bb05b9b8c",
   "metadata": {
    "tags": [],
    "pycharm": {
     "is_executing": true
    }
   },
   "outputs": [],
   "source": [
    "print(conv_chain.run(\"Once upon a time in 1947\"))"
   ]
  },
  {
   "cell_type": "markdown",
   "id": "b534d3cc-3350-4976-8dd0-885cdc195e8c",
   "metadata": {},
   "source": [
    "### Creating chatbot interface with Chainlit"
   ]
  },
  {
   "cell_type": "markdown",
   "id": "f61877b3-e524-4c06-9e4f-2917fe1e1020",
   "metadata": {},
   "source": [
    "Chainlit is a python package to create UI for chat interface applications </br>\n",
    "We need to use the decorator from Chainlit fro langchain"
   ]
  },
  {
   "cell_type": "markdown",
   "id": "b0997546-c92e-44a1-b637-1ecd006f98d5",
   "metadata": {},
   "source": [
    "https://docs.chainlit.io/overview"
   ]
  },
  {
   "cell_type": "code",
   "execution_count": null,
   "id": "a5ddee6f-cece-4657-91fb-bc9c369ebf3b",
   "metadata": {
    "jupyter": {
     "source_hidden": true
    },
    "tags": [],
    "pycharm": {
     "is_executing": true
    }
   },
   "outputs": [],
   "source": [
    "@cl.langchain_factory(use_async=False)\n",
    "\n",
    "def factory():\n",
    "    prompt = PromptTemplate(template=template, input_variables=['question'])\n",
    "    conv_chain = LLMChain(llm=conv_model,\n",
    "                          prompt=prompt,\n",
    "                          verbose=True)\n",
    "    \n",
    "    return conv_chain"
   ]
  },
  {
   "cell_type": "markdown",
   "id": "10047624-cb09-4104-afcf-092b5869e631",
   "metadata": {},
   "source": [
    "### Using Conversational memory"
   ]
  },
  {
   "cell_type": "markdown",
   "id": "c2d4a7ff-9edf-4ba2-a756-4bfe72d5a1ab",
   "metadata": {},
   "source": [
    "Conversational memory is how a chatbot can respond to multiple queries in a chat-like manner </br>\n",
    "It enables a coherent conversation, and without it, every query would be treated as an entirely independent input without considering past interactions"
   ]
  },
  {
   "cell_type": "code",
   "execution_count": null,
   "id": "5994a34e-9b4d-4081-8099-87e7c8c73289",
   "metadata": {
    "tags": [],
    "pycharm": {
     "is_executing": true
    }
   },
   "outputs": [],
   "source": [
    "from langchain.memory import ConversationBufferMemory\n",
    "from langchain.chains import ConversationChain"
   ]
  },
  {
   "cell_type": "code",
   "execution_count": null,
   "id": "0c5d26ff-98fc-4172-8669-de18f8733725",
   "metadata": {
    "collapsed": true,
    "jupyter": {
     "outputs_hidden": true
    },
    "tags": [],
    "pycharm": {
     "is_executing": true
    }
   },
   "outputs": [],
   "source": [
    "user_message = \"When I was a child\"\n",
    "while user_message!='bye':\n",
    "    memory.chat_memory.add_user_message(user_message)\n",
    "    resp = conv_chain.run(user_message)\n",
    "    print(\"AI: \",resp)\n",
    "    memory.chat_memory.add_ai_message(resp)\n",
    "    \n",
    "    user_message = input(\"Enter a message or bye to exit!!\")"
   ]
  },
  {
   "cell_type": "code",
   "execution_count": null,
   "id": "38400381-7d11-4bb0-91b6-cd80fea7df15",
   "metadata": {
    "tags": [],
    "pycharm": {
     "is_executing": true
    }
   },
   "outputs": [],
   "source": [
    "template_with_memory = \"\"\"You are a helpful chatbot. You answer questions \n",
    "after some thought and only provides relevant answer\n",
    "\n",
    "Previous conversation:\n",
    "{chat_history}\n",
    "\n",
    "New human question: {question}\n",
    "\n",
    "Response:\n",
    "\"\"\"\n",
    "\n",
    "prompt2 = PromptTemplate(template=template_with_memory, input_variables=['chat_history','question'])"
   ]
  },
  {
   "cell_type": "code",
   "execution_count": null,
   "id": "4898316e-4beb-430f-8b3e-94022c22ea2b",
   "metadata": {
    "tags": [],
    "pycharm": {
     "is_executing": true
    }
   },
   "outputs": [],
   "source": [
    "memory = ConversationBufferMemory(memory_key=\"history\")\n",
    "\n",
    "model_id = \"gpt2-xl\"\n",
    "conv_model = HuggingFaceHub(huggingfacehub_api_token=os.environ['HUGGINGFACEHUB_API_TOKEN'],\n",
    "                            repo_id=model_id,\n",
    "                            model_kwargs={\"temperature\":0.8, \"max_length\":128})\n",
    "\n",
    "conv_chain_with_memory = ConversationChain(llm=conv_model,\n",
    "                                  memory=memory,\n",
    "                                 verbose=True)"
   ]
  },
  {
   "cell_type": "code",
   "execution_count": null,
   "id": "903cc70b-4c96-4aaf-ae92-e1807faac6f8",
   "metadata": {
    "tags": [],
    "pycharm": {
     "is_executing": true
    }
   },
   "outputs": [],
   "source": [
    "print(conv_chain_with_memory.predict(input=\"Hi there!\"))"
   ]
  },
  {
   "cell_type": "code",
   "execution_count": null,
   "id": "1f79d0cf-2bac-4828-9490-c531633b8f01",
   "metadata": {
    "tags": [],
    "pycharm": {
     "is_executing": true
    }
   },
   "outputs": [],
   "source": [
    "print(conv_chain_with_memory.predict(input=\"Yes, I have a Mercedes. Wanna come on drive?\"))"
   ]
  },
  {
   "cell_type": "markdown",
   "id": "2a275d61-9a9f-4226-bf30-0278f68b1ae0",
   "metadata": {},
   "source": [
    "#### Types of Memory\n",
    "\n",
    "1. ConversationBufferMemory: This memory allows for storing of messages and then extracts the messages in a \n",
    "variable\n",
    "2. ConversationBufferWindowMemory: keeps a list of the interactions of the conversation over time. It only uses the last K interactions. Useful for keeping a sliding window of the most recent interactions"
   ]
  },
  {
   "cell_type": "code",
   "execution_count": null,
   "id": "55850faf-0883-40c4-9a06-3404278a5a23",
   "metadata": {
    "pycharm": {
     "is_executing": true
    }
   },
   "outputs": [],
   "source": []
  }
 ],
 "metadata": {
  "kernelspec": {
   "display_name": "Python 3 (ipykernel)",
   "language": "python",
   "name": "python3"
  },
  "language_info": {
   "codemirror_mode": {
    "name": "ipython",
    "version": 3
   },
   "file_extension": ".py",
   "mimetype": "text/x-python",
   "name": "python",
   "nbconvert_exporter": "python",
   "pygments_lexer": "ipython3",
   "version": "3.10.11"
  }
 },
 "nbformat": 4,
 "nbformat_minor": 5
}